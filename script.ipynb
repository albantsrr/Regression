{
 "cells": [
  {
   "cell_type": "markdown",
   "id": "bf089078-79fd-4459-bb5f-656add84bfe1",
   "metadata": {},
   "source": [
    "# Multiple Linear Regression "
   ]
  },
  {
   "cell_type": "markdown",
   "id": "dcae923b-bd9c-4c6e-b502-a80796ad3e3f",
   "metadata": {},
   "source": [
    "## Importing the libraries\n"
   ]
  },
  {
   "cell_type": "code",
   "execution_count": 15,
   "id": "4d801442-861d-4c58-93e0-148e5222e252",
   "metadata": {},
   "outputs": [],
   "source": [
    "import numpy as np \n",
    "import matplotlib.pyplot as plt\n",
    "import pandas as pd "
   ]
  },
  {
   "cell_type": "markdown",
   "id": "de18f45c-f5a6-41af-8268-6dff720c9098",
   "metadata": {},
   "source": [
    "## Importing the dataset "
   ]
  },
  {
   "cell_type": "code",
   "execution_count": 7,
   "id": "ee5abfd7-bf23-4837-8d9c-116bac4405bd",
   "metadata": {},
   "outputs": [],
   "source": [
    "df = pd.read_csv('50_Startups.csv')\n",
    "X = df.iloc[:, :-1].values \n",
    "y = df.iloc[:, -1].values "
   ]
  },
  {
   "cell_type": "markdown",
   "id": "e2da186f-86d3-46c8-a5de-376c5279b770",
   "metadata": {},
   "source": [
    "## Encoding the categorical data"
   ]
  },
  {
   "cell_type": "code",
   "execution_count": 23,
   "id": "39e5720e-b79a-4a17-9b47-32bee5bee851",
   "metadata": {},
   "outputs": [],
   "source": [
    "from sklearn.compose import ColumnTransformer\n",
    "from sklearn.preprocessing import OneHotEncoder\n",
    "ct = ColumnTransformer(transformers=[('encoder', OneHotEncoder(), [3])], remainder='passthrough')\n",
    "X = np.array(ct.fit_transform(X))"
   ]
  },
  {
   "cell_type": "markdown",
   "id": "18007932-5df6-4ad9-b877-5d54f4b64895",
   "metadata": {},
   "source": [
    "## Spliting the dataset "
   ]
  },
  {
   "cell_type": "code",
   "execution_count": 16,
   "id": "69ecd86c-0327-4fb9-bc1b-b86c2d5ff298",
   "metadata": {},
   "outputs": [],
   "source": [
    "from sklearn.model_selection import train_test_split \n",
    "X_train, X_test, y_train, y_test = train_test_split(X, y, test_size=0.2, random_state=0)\n"
   ]
  },
  {
   "cell_type": "code",
   "execution_count": null,
   "id": "1b7ea800-8551-4335-a5df-ec5d8d648804",
   "metadata": {},
   "outputs": [],
   "source": []
  }
 ],
 "metadata": {
  "kernelspec": {
   "display_name": "Python 3 (ipykernel)",
   "language": "python",
   "name": "python3"
  },
  "language_info": {
   "codemirror_mode": {
    "name": "ipython",
    "version": 3
   },
   "file_extension": ".py",
   "mimetype": "text/x-python",
   "name": "python",
   "nbconvert_exporter": "python",
   "pygments_lexer": "ipython3",
   "version": "3.10.12"
  }
 },
 "nbformat": 4,
 "nbformat_minor": 5
}
